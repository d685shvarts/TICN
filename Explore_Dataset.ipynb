{
 "cells": [
  {
   "cell_type": "code",
   "execution_count": 1,
   "metadata": {},
   "outputs": [],
   "source": [
    "from data_loader import *\n",
    "import csv\n",
    "from pycocotools.coco import COCO\n",
    "from tqdm import tqdm\n",
    "from vocab import *\n",
    "import nltk\n",
    "import os\n",
    "import torchvision.transforms as transforms"
   ]
  },
  {
   "cell_type": "code",
   "execution_count": 13,
   "metadata": {},
   "outputs": [
    {
     "name": "stdout",
     "output_type": "stream",
     "text": [
      "Successfully loaded vocabulary from wordDict.pkl and wordStat.pkl\n"
     ]
    },
    {
     "name": "stderr",
     "output_type": "stream",
     "text": [
      "[nltk_data] Downloading package punkt to /home/mtranquo/nltk_data...\n",
      "[nltk_data]   Package punkt is already up-to-date!\n"
     ]
    },
    {
     "data": {
      "text/plain": [
       "True"
      ]
     },
     "execution_count": 13,
     "metadata": {},
     "output_type": "execute_result"
    }
   ],
   "source": [
    "batch_size = 2\n",
    "vocab = Vocab()\n",
    "nltk.download('punkt')"
   ]
  },
  {
   "cell_type": "code",
   "execution_count": 14,
   "metadata": {},
   "outputs": [
    {
     "name": "stdout",
     "output_type": "stream",
     "text": [
      "loading annotations into memory...\n",
      "Done (t=0.82s)\n",
      "creating index...\n",
      "index created!\n",
      "loading annotations into memory...\n",
      "Done (t=0.76s)\n",
      "creating index...\n",
      "index created!\n"
     ]
    }
   ],
   "source": [
    "annos = './data/annotations/captions_train2014.json'\n",
    "images = '/datasets/COCO-2015/train2014/'\n",
    "coco = COCO(annos)\n",
    "trainIds = []\n",
    "\n",
    "# get ids of training images\n",
    "with open('TrainImageIds.csv', 'r') as f:\n",
    "    reader = csv.reader(f)\n",
    "    trainIds = list(reader)\n",
    "trainImgIds = [int(i) for i in trainIds[0]]\n",
    "\n",
    "for imgId in trainImgIds:\n",
    "    for caption in coco.imgToAnns[imgId]:\n",
    "        trainIds.append(caption['id'])\n",
    "\n",
    "train_loader = get_loader(root=images, json=annos, ids=trainIds, vocab=vocab,\n",
    "                         transform=transforms.Resize((256,256)), batch_size=batch_size, shuffle=True, num_workers=4)"
   ]
  },
  {
   "cell_type": "code",
   "execution_count": 15,
   "metadata": {},
   "outputs": [
    {
     "name": "stdout",
     "output_type": "stream",
     "text": [
      "loading annotations into memory...\n",
      "Done (t=0.42s)\n",
      "creating index...\n",
      "index created!\n",
      "loading annotations into memory...\n",
      "Done (t=0.50s)\n",
      "creating index...\n",
      "index created!\n"
     ]
    }
   ],
   "source": [
    "annos = './data/annotations/captions_val2014.json'\n",
    "images = '/datasets/COCO-2015/val2014/'\n",
    "coco = COCO(annos)\n",
    "testIds = []\n",
    "\n",
    "# get ids of test\n",
    "with open('TestImageIds.csv', 'r') as f:\n",
    "    reader = csv.reader(f)\n",
    "    testIds = list(reader)\n",
    "testImgIds = [int(i) for i in testIds[0]]\n",
    "\n",
    "for imgId in testImgIds:\n",
    "    for caption in coco.imgToAnns[imgId]:\n",
    "        testIds.append(caption['id'])\n",
    "\n",
    "test_loader = get_loader(root=images, json=annos, ids=testIds, vocab=vocab,\n",
    "                         transform=transforms.Resize((256,256)), batch_size=batch_size, shuffle=True, num_workers=4)"
   ]
  },
  {
   "cell_type": "code",
   "execution_count": 17,
   "metadata": {},
   "outputs": [
    {
     "name": "stdout",
     "output_type": "stream",
     "text": [
      "torch.Size([2, 17])\n"
     ]
    }
   ],
   "source": [
    "for iter, (images, targets, lengths) in enumerate(train_loader):\n",
    "    print(targets.shape)\n",
    "    break"
   ]
  },
  {
   "cell_type": "code",
   "execution_count": 9,
   "metadata": {},
   "outputs": [
    {
     "name": "stdout",
     "output_type": "stream",
     "text": [
      "loading annotations into memory...\n",
      "Done (t=0.99s)\n",
      "creating index...\n",
      "index created!\n"
     ]
    }
   ],
   "source": [
    "# find the min width and height to crop\n",
    "annos = './data/annotations/captions_train2014.json'\n",
    "root = '/datasets/COCO-2015/train2014/'\n",
    "coco = COCO(annos)\n",
    "minWidth = 1000000\n",
    "minHeight = 1000000\n",
    "for imgId in trainImgIds:\n",
    "    path = coco.loadImgs(imgId)[0]['file_name']\n",
    "    image = Image.open(os.path.join(root, path)).convert('RGB')\n",
    "    width, height = image.size\n",
    "    minWidth = min(minWidth, width)\n",
    "    minHeight = min(minHeight, height)"
   ]
  },
  {
   "cell_type": "code",
   "execution_count": 10,
   "metadata": {},
   "outputs": [
    {
     "name": "stdout",
     "output_type": "stream",
     "text": [
      "120 104\n"
     ]
    }
   ],
   "source": [
    "print(minWidth, minHeight)"
   ]
  },
  {
   "cell_type": "code",
   "execution_count": null,
   "metadata": {},
   "outputs": [],
   "source": []
  }
 ],
 "metadata": {
  "kernelspec": {
   "display_name": "Python 3",
   "language": "python",
   "name": "python3"
  },
  "language_info": {
   "codemirror_mode": {
    "name": "ipython",
    "version": 3
   },
   "file_extension": ".py",
   "mimetype": "text/x-python",
   "name": "python",
   "nbconvert_exporter": "python",
   "pygments_lexer": "ipython3",
   "version": "3.7.3"
  }
 },
 "nbformat": 4,
 "nbformat_minor": 2
}
