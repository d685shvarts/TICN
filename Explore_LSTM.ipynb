{
 "cells": [
  {
   "cell_type": "code",
   "execution_count": 1,
   "metadata": {},
   "outputs": [],
   "source": [
    "import torch\n",
    "import torch.nn as nn\n",
    "import torch.optim as optim\n",
    "import numpy as np\n",
    "from LSTM import *\n",
    "import json"
   ]
  },
  {
   "cell_type": "code",
   "execution_count": 2,
   "metadata": {},
   "outputs": [],
   "source": [
    "# Hyper parameters for LSTM and word embedding.\n",
    "# Refer to https://pytorch.org/docs/stable/nn.html#lstm for their meaning.\n",
    "cfg = {\n",
    "    'input_size': 50, # In our case, it should be the size of the embedded word\n",
    "    'output_size': 100 # In our case, it should be the size of the one hot encoded word\n",
    "    'num_layers': 1,\n",
    "    'dropout': 0,\n",
    "    'bidirectional': False\n",
    "}"
   ]
  },
  {
   "cell_type": "code",
   "execution_count": 3,
   "metadata": {},
   "outputs": [],
   "source": [
    "model = LSTM(cfg).cuda()"
   ]
  },
  {
   "cell_type": "code",
   "execution_count": 4,
   "metadata": {},
   "outputs": [],
   "source": [
    "# Example of training\n",
    "imgs = torch.rand((100, 3, 128, 128)).cuda() # 100 images, 3 channels of 128x128\n",
    "X = torch.rand((100, 20, cfg['embedding_size'])).cuda() # 100 images, each with captioning of length 20, word embedding size 50\n",
    "Y, (_, _) = model(X=X, imgs=imgs)"
   ]
  },
  {
   "cell_type": "code",
   "execution_count": 5,
   "metadata": {},
   "outputs": [
    {
     "name": "stdout",
     "output_type": "stream",
     "text": [
      "X1 shape:  torch.Size([100, 1, 50])\n",
      "X2 shape:  torch.Size([100, 1, 50])\n"
     ]
    }
   ],
   "source": [
    "# Example of generating\n",
    "imgs = torch.rand((100, 3, 128, 128)).cuda() # 100 images, 3 channels of 128x128\n",
    "\n",
    "# First Generate X1 using imgs:\n",
    "X1, (h, c) = model(imgs=imgs)\n",
    "print(\"X1 shape: \", X1.shape)\n",
    "\n",
    "# Then generate subsequent words by propagating hidden state and cell state\n",
    "X2, (h, c) = model(X=X1, hidden_state=h, cell_state=c)\n",
    "X3, (h, c) = model(X=X2, hidden_state=h, cell_state=c)\n",
    "X4, (h, c) = model(X=X3, hidden_state=h, cell_state=c)\n",
    "print(\"X2 shape: \", X2.shape)"
   ]
  },
  {
   "cell_type": "code",
   "execution_count": null,
   "metadata": {},
   "outputs": [],
   "source": []
  }
 ],
 "metadata": {
  "kernelspec": {
   "display_name": "Python 3",
   "language": "python",
   "name": "python3"
  },
  "language_info": {
   "codemirror_mode": {
    "name": "ipython",
    "version": 3
   },
   "file_extension": ".py",
   "mimetype": "text/x-python",
   "name": "python",
   "nbconvert_exporter": "python",
   "pygments_lexer": "ipython3",
   "version": "3.7.3"
  }
 },
 "nbformat": 4,
 "nbformat_minor": 2
}
